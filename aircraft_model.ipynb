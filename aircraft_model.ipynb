{
  "nbformat": 4,
  "nbformat_minor": 0,
  "metadata": {
    "colab": {
      "name": "Accenture.ipynb",
      "provenance": [],
      "collapsed_sections": [],
      "include_colab_link": true
    },
    "kernelspec": {
      "name": "python3",
      "display_name": "Python 3"
    },
    "language_info": {
      "name": "python"
    }
  },
  "cells": [
    {
      "cell_type": "markdown",
      "metadata": {
        "id": "view-in-github",
        "colab_type": "text"
      },
      "source": [
        "<a href=\"https://colab.research.google.com/github/rahul799/RAFSIL/blob/master/aircraft_model.ipynb\" target=\"_parent\"><img src=\"https://colab.research.google.com/assets/colab-badge.svg\" alt=\"Open In Colab\"/></a>"
      ]
    },
    {
      "cell_type": "code",
      "metadata": {
        "id": "48x45sddDMXW",
        "colab": {
          "base_uri": "https://localhost:8080/"
        },
        "outputId": "192724e8-71cb-4864-fe72-a9965e148cd9"
      },
      "source": [
        "from google.colab import drive\n",
        "drive.mount('/content/drive', force_remount=True)"
      ],
      "execution_count": null,
      "outputs": [
        {
          "output_type": "stream",
          "text": [
            "Mounted at /content/drive\n"
          ],
          "name": "stdout"
        }
      ]
    },
    {
      "cell_type": "code",
      "metadata": {
        "id": "Pb60y4TTSdNk",
        "colab": {
          "base_uri": "https://localhost:8080/"
        },
        "outputId": "014a8ff6-eeef-448d-f781-0af3fbefae43"
      },
      "source": [
        "recalimport numpy as np\n",
        "import pandas as pd\n",
        "\n",
        "from sklearn.model_selection import StratifiedKFold\n",
        "from sklearn.ensemble import RandomForestClassifier\n",
        "from sklearn.metrics import accuracy_score\n",
        "from sklearn.metrics import roc_auc_score\n",
        "from sklearn import metrics\n",
        "from numpy import loadtxt\n",
        "from xgboost import XGBClassifier\n",
        "from lightgbm import LGBMClassifier\n",
        "from imblearn.over_sampling import SMOTE\n",
        "from sklearn.model_selection import RandomizedSearchCV, GridSearchCV\n",
        "\n",
        "from scipy.stats import randint as sp_randint\n",
        "from scipy.stats import uniform as sp_uniform\n",
        "\n",
        "\n",
        "#from sklearn.datasets import make_classification\n",
        "from sklearn.ensemble import ExtraTreesClassifier\n"
      ],
      "execution_count": null,
      "outputs": [
        {
          "output_type": "stream",
          "text": [
            "/usr/local/lib/python3.7/dist-packages/sklearn/externals/six.py:31: FutureWarning: The module is deprecated in version 0.21 and will be removed in version 0.23 since we've dropped support for Python 2.7. Please rely on the official version of six (https://pypi.org/project/six/).\n",
            "  \"(https://pypi.org/project/six/).\", FutureWarning)\n",
            "/usr/local/lib/python3.7/dist-packages/sklearn/utils/deprecation.py:144: FutureWarning: The sklearn.neighbors.base module is  deprecated in version 0.22 and will be removed in version 0.24. The corresponding classes / functions should instead be imported from sklearn.neighbors. Anything that cannot be imported from sklearn.neighbors is now part of the private API.\n",
            "  warnings.warn(message, FutureWarning)\n"
          ],
          "name": "stderr"
        }
      ]
    },
    {
      "cell_type": "code",
      "metadata": {
        "id": "x3Y4S-tzDVL6"
      },
      "source": [
        "\n",
        "\n",
        "'''Features'''\n",
        "from sklearn.preprocessing import LabelEncoder\n",
        "from sklearn.feature_extraction.text import TfidfVectorizer\n",
        "from sklearn.decomposition import TruncatedSVD\n",
        "from sklearn.preprocessing import label_binarize\n",
        "\n",
        "'''Classifiers'''\n",
        "from sklearn.dummy import DummyClassifier\n",
        "from sklearn.linear_model import SGDClassifier\n",
        "from sklearn.naive_bayes import GaussianNB\n",
        "from sklearn.tree import DecisionTreeClassifier\n",
        "from sklearn.ensemble import RandomForestClassifier, AdaBoostClassifier\n",
        "from sklearn.neighbors import KNeighborsClassifier\n",
        "from sklearn.multiclass import OneVsRestClassifier\n",
        "\n",
        "'''Metrics/Evaluation'''\n",
        "from sklearn.model_selection import train_test_split\n",
        "from sklearn.model_selection import GridSearchCV\n",
        "from sklearn.metrics import accuracy_score, precision_score, recall_score, f1_score, roc_curve, auc, confusion_matrix\n",
        "from scipy import interp\n",
        "from itertools import cycle\n",
        "from sklearn.metrics import plot_roc_curve\n",
        "\n",
        "'''Plotting'''\n",
        "import matplotlib.pyplot as plt\n",
        "import seaborn as sns\n",
        "sns.set_style('darkgrid')\n",
        "\n",
        "\n",
        "''' AUC '''\n",
        "from sklearn.datasets import make_classification\n",
        "from sklearn.linear_model import LogisticRegression\n",
        "from sklearn.model_selection import train_test_split\n",
        "from sklearn.metrics import precision_recall_curve\n",
        "from sklearn.metrics import f1_score\n",
        "from sklearn.metrics import auc\n",
        "from matplotlib import pyplot\n"
      ],
      "execution_count": null,
      "outputs": []
    },
    {
      "cell_type": "code",
      "metadata": {
        "id": "lC2nczvEE6Pc"
      },
      "source": [
        "train_df = pd.read_csv('/content/drive/My Drive/aircraft_data/PM_train.txt', sep=\" \", header=None)\n",
        "test_df = pd.read_csv('/content/drive/My Drive/aircraft_data/PM_test.txt', sep=\" \", header=None)\n"
      ],
      "execution_count": null,
      "outputs": []
    },
    {
      "cell_type": "code",
      "metadata": {
        "id": "IzhZitpESUqV"
      },
      "source": [
        "#----------------------------------- Train Data -------------------------------------------------------#\n",
        "train_df.drop(train_df.columns[[26, 27]], axis=1, inplace=True)\n",
        "train_df.columns = ['id', 'cycle', 'setting1', 'setting2', 'setting3', 's1', 's2', 's3',\n",
        "                     's4', 's5', 's6', 's7', 's8', 's9', 's10', 's11', 's12', 's13', 's14',\n",
        "                     's15', 's16', 's17', 's18', 's19', 's20', 's21']\n",
        "\n",
        "train_df = train_df.sort_values(['id','cycle'])\n",
        "\n",
        "rul = pd.DataFrame(train_df.groupby('id')['cycle'].max()).reset_index()\n",
        "rul.columns = ['id', 'max']\n",
        "train_df = train_df.merge(rul, on=['id'], how='left')\n",
        "train_df['RUL'] = train_df['max'] - train_df['cycle']\n",
        "train_df.drop('max', axis=1, inplace=True)\n",
        "\n",
        "train_df = train_df.dropna()\n",
        "train_df.reset_index(drop=True, inplace= True)\n",
        "\n",
        "X_train = train_df.copy()\n",
        "\n",
        "w1 = 30\n",
        "train_df['label1'] = np.where(train_df['RUL'] <= w1, 1, 0 )\n",
        "Y_train = train_df[\"label1\"].copy()\n",
        "\n",
        "\n",
        "X_train.index = range(len(X_train))\n",
        "\n",
        "Y_train.index = range(len(Y_train))\n",
        " \n",
        "#-------------------------------------------------------------------------------------------------------# \n",
        "\n",
        "#----------------------------------- Test Data ---------------------------------------------------------#\n",
        "\n",
        "test_df.drop(test_df.columns[[26, 27]], axis=1, inplace=True)\n",
        "test_df.columns = ['id', 'cycle', 'setting1', 'setting2', 'setting3', 's1', 's2', 's3',\n",
        "                     's4', 's5', 's6', 's7', 's8', 's9', 's10', 's11', 's12', 's13', 's14',\n",
        "                     's15', 's16', 's17', 's18', 's19', 's20', 's21']\n",
        "\n",
        "test_df = test_df.sort_values(['id','cycle'])\n",
        "\n",
        "rul = pd.DataFrame(test_df.groupby('id')['cycle'].max()).reset_index()\n",
        "rul.columns = ['id', 'max']\n",
        "test_df = test_df.merge(rul, on=['id'], how='left')\n",
        "test_df['RUL'] = test_df['max'] - test_df['cycle']\n",
        "test_df.drop('max', axis=1, inplace=True)\n",
        "\n",
        "test_df = test_df.dropna()\n",
        "test_df.reset_index(drop=True, inplace= True)\n",
        "\n",
        "\n",
        "X1_test = test_df.copy()\n",
        "\n",
        "w1 = 30\n",
        "test_df['label1'] = np.where(test_df['RUL'] <= w1, 1, 0 )\n",
        "Y1_test = test_df[\"label1\"].copy()\n",
        "\n",
        "X1_test.index = range(len(X1_test))\n",
        "\n",
        "Y1_test.index = range(len(Y1_test))\n",
        " \n",
        "#-------------------------------------------------------------------------------------------------------# "
      ],
      "execution_count": null,
      "outputs": []
    },
    {
      "cell_type": "code",
      "metadata": {
        "colab": {
          "base_uri": "https://localhost:8080/"
        },
        "id": "ZfVwFwyl37pR",
        "outputId": "016a5e31-e86d-4ff7-abf0-8c4e544aff2f"
      },
      "source": [
        "# Current Class Distributoin\n",
        "Y1_test.value_counts()\n"
      ],
      "execution_count": null,
      "outputs": [
        {
          "output_type": "execute_result",
          "data": {
            "text/plain": [
              "0    9087\n",
              "1    2851\n",
              "Name: label1, dtype: int64"
            ]
          },
          "metadata": {
            "tags": []
          },
          "execution_count": 86
        }
      ]
    },
    {
      "cell_type": "code",
      "metadata": {
        "id": "yyNy6Gmia9db"
      },
      "source": [
        "# Drop Unwanted Columns\n",
        "\n",
        "cols_to_be_dropped = [\"RUL\", \"label1\", \"id\", \"cycle\"] + ['s8', 'setting2', 'setting1', 's6', 'setting3', 's1', 's19', 's18', 's5', 's16', 's10']\n",
        "train_df = train_df.drop(cols_to_be_dropped, axis = 1)\n",
        "test_df = test_df.drop(cols_to_be_dropped, axis = 1)\n",
        "\n",
        "cols_to_be_dropped_in_X = [\"RUL\", \"id\", \"cycle\"] + ['s8', 'setting2', 'setting1', 's6', 'setting3', 's1', 's19', 's18', 's5', 's16', 's10']\n",
        "X_train = X_train.drop(cols_to_be_dropped_in_X, axis = 1)\n",
        "X1_test = X1_test.drop(cols_to_be_dropped_in_X, axis = 1)"
      ],
      "execution_count": null,
      "outputs": []
    },
    {
      "cell_type": "code",
      "metadata": {
        "id": "VFAyWBti7sy0",
        "colab": {
          "base_uri": "https://localhost:8080/"
        },
        "outputId": "9564589a-ab10-4166-8b61-1b9efc90b52d"
      },
      "source": [
        "# Current Class Distributoin\n",
        "Y_train.value_counts()\n"
      ],
      "execution_count": null,
      "outputs": [
        {
          "output_type": "execute_result",
          "data": {
            "text/plain": [
              "0    17531\n",
              "1     3100\n",
              "Name: label1, dtype: int64"
            ]
          },
          "metadata": {
            "tags": []
          },
          "execution_count": 88
        }
      ]
    },
    {
      "cell_type": "code",
      "metadata": {
        "id": "piAdpSAjZHGu"
      },
      "source": [
        "# Performin over sampling due to imbalenced class in dataset\n",
        "\n",
        "X_train_oversampled, Y_train_oversampled = SMOTE().fit_resample(X_train, Y_train)\n",
        "\n",
        "# Retainning the pandas dataframe\n",
        "X_train = pd.DataFrame(X_train_oversampled, columns=X_train.columns)\n",
        "Y_train = pd.DataFrame(Y_train_oversampled)"
      ],
      "execution_count": null,
      "outputs": []
    },
    {
      "cell_type": "code",
      "metadata": {
        "colab": {
          "base_uri": "https://localhost:8080/",
          "height": 424
        },
        "id": "bjTcSZELjtUo",
        "outputId": "e96dbe6f-59c6-41f5-bd05-a80091bd8ef8"
      },
      "source": [
        "X_train"
      ],
      "execution_count": null,
      "outputs": [
        {
          "output_type": "execute_result",
          "data": {
            "text/html": [
              "<div>\n",
              "<style scoped>\n",
              "    .dataframe tbody tr th:only-of-type {\n",
              "        vertical-align: middle;\n",
              "    }\n",
              "\n",
              "    .dataframe tbody tr th {\n",
              "        vertical-align: top;\n",
              "    }\n",
              "\n",
              "    .dataframe thead th {\n",
              "        text-align: right;\n",
              "    }\n",
              "</style>\n",
              "<table border=\"1\" class=\"dataframe\">\n",
              "  <thead>\n",
              "    <tr style=\"text-align: right;\">\n",
              "      <th></th>\n",
              "      <th>s2</th>\n",
              "      <th>s3</th>\n",
              "      <th>s4</th>\n",
              "      <th>s7</th>\n",
              "      <th>s9</th>\n",
              "      <th>s11</th>\n",
              "      <th>s12</th>\n",
              "      <th>s13</th>\n",
              "      <th>s14</th>\n",
              "      <th>s15</th>\n",
              "      <th>s17</th>\n",
              "      <th>s20</th>\n",
              "      <th>s21</th>\n",
              "    </tr>\n",
              "  </thead>\n",
              "  <tbody>\n",
              "    <tr>\n",
              "      <th>0</th>\n",
              "      <td>641.820000</td>\n",
              "      <td>1589.700000</td>\n",
              "      <td>1400.600000</td>\n",
              "      <td>554.360000</td>\n",
              "      <td>9046.190000</td>\n",
              "      <td>47.470000</td>\n",
              "      <td>521.660000</td>\n",
              "      <td>2388.020000</td>\n",
              "      <td>8138.620000</td>\n",
              "      <td>8.419500</td>\n",
              "      <td>392.000000</td>\n",
              "      <td>39.060000</td>\n",
              "      <td>23.419000</td>\n",
              "    </tr>\n",
              "    <tr>\n",
              "      <th>1</th>\n",
              "      <td>642.150000</td>\n",
              "      <td>1591.820000</td>\n",
              "      <td>1403.140000</td>\n",
              "      <td>553.750000</td>\n",
              "      <td>9044.070000</td>\n",
              "      <td>47.490000</td>\n",
              "      <td>522.280000</td>\n",
              "      <td>2388.070000</td>\n",
              "      <td>8131.490000</td>\n",
              "      <td>8.431800</td>\n",
              "      <td>392.000000</td>\n",
              "      <td>39.000000</td>\n",
              "      <td>23.423600</td>\n",
              "    </tr>\n",
              "    <tr>\n",
              "      <th>2</th>\n",
              "      <td>642.350000</td>\n",
              "      <td>1587.990000</td>\n",
              "      <td>1404.200000</td>\n",
              "      <td>554.260000</td>\n",
              "      <td>9052.940000</td>\n",
              "      <td>47.270000</td>\n",
              "      <td>522.420000</td>\n",
              "      <td>2388.030000</td>\n",
              "      <td>8133.230000</td>\n",
              "      <td>8.417800</td>\n",
              "      <td>390.000000</td>\n",
              "      <td>38.950000</td>\n",
              "      <td>23.344200</td>\n",
              "    </tr>\n",
              "    <tr>\n",
              "      <th>3</th>\n",
              "      <td>642.350000</td>\n",
              "      <td>1582.790000</td>\n",
              "      <td>1401.870000</td>\n",
              "      <td>554.450000</td>\n",
              "      <td>9049.480000</td>\n",
              "      <td>47.130000</td>\n",
              "      <td>522.860000</td>\n",
              "      <td>2388.080000</td>\n",
              "      <td>8133.830000</td>\n",
              "      <td>8.368200</td>\n",
              "      <td>392.000000</td>\n",
              "      <td>38.880000</td>\n",
              "      <td>23.373900</td>\n",
              "    </tr>\n",
              "    <tr>\n",
              "      <th>4</th>\n",
              "      <td>642.370000</td>\n",
              "      <td>1582.850000</td>\n",
              "      <td>1406.220000</td>\n",
              "      <td>554.000000</td>\n",
              "      <td>9055.150000</td>\n",
              "      <td>47.280000</td>\n",
              "      <td>522.190000</td>\n",
              "      <td>2388.040000</td>\n",
              "      <td>8133.800000</td>\n",
              "      <td>8.429400</td>\n",
              "      <td>393.000000</td>\n",
              "      <td>38.900000</td>\n",
              "      <td>23.404400</td>\n",
              "    </tr>\n",
              "    <tr>\n",
              "      <th>...</th>\n",
              "      <td>...</td>\n",
              "      <td>...</td>\n",
              "      <td>...</td>\n",
              "      <td>...</td>\n",
              "      <td>...</td>\n",
              "      <td>...</td>\n",
              "      <td>...</td>\n",
              "      <td>...</td>\n",
              "      <td>...</td>\n",
              "      <td>...</td>\n",
              "      <td>...</td>\n",
              "      <td>...</td>\n",
              "      <td>...</td>\n",
              "    </tr>\n",
              "    <tr>\n",
              "      <th>35057</th>\n",
              "      <td>642.624114</td>\n",
              "      <td>1602.644633</td>\n",
              "      <td>1424.150945</td>\n",
              "      <td>553.126738</td>\n",
              "      <td>9162.429645</td>\n",
              "      <td>47.760804</td>\n",
              "      <td>520.896028</td>\n",
              "      <td>2388.060804</td>\n",
              "      <td>8229.032459</td>\n",
              "      <td>8.479192</td>\n",
              "      <td>395.879432</td>\n",
              "      <td>38.630000</td>\n",
              "      <td>23.239560</td>\n",
              "    </tr>\n",
              "    <tr>\n",
              "      <th>35058</th>\n",
              "      <td>643.423701</td>\n",
              "      <td>1602.307036</td>\n",
              "      <td>1422.740753</td>\n",
              "      <td>552.154078</td>\n",
              "      <td>9058.929267</td>\n",
              "      <td>47.885553</td>\n",
              "      <td>520.013333</td>\n",
              "      <td>2388.227778</td>\n",
              "      <td>8133.865920</td>\n",
              "      <td>8.515504</td>\n",
              "      <td>395.518505</td>\n",
              "      <td>38.621112</td>\n",
              "      <td>23.222894</td>\n",
              "    </tr>\n",
              "    <tr>\n",
              "      <th>35059</th>\n",
              "      <td>643.098993</td>\n",
              "      <td>1600.787460</td>\n",
              "      <td>1415.553370</td>\n",
              "      <td>552.525252</td>\n",
              "      <td>9154.046148</td>\n",
              "      <td>47.700394</td>\n",
              "      <td>521.328512</td>\n",
              "      <td>2388.079869</td>\n",
              "      <td>8226.379473</td>\n",
              "      <td>8.459116</td>\n",
              "      <td>393.995623</td>\n",
              "      <td>38.690481</td>\n",
              "      <td>23.319500</td>\n",
              "    </tr>\n",
              "    <tr>\n",
              "      <th>35060</th>\n",
              "      <td>643.775357</td>\n",
              "      <td>1599.903115</td>\n",
              "      <td>1423.528656</td>\n",
              "      <td>552.601789</td>\n",
              "      <td>9111.690529</td>\n",
              "      <td>47.937414</td>\n",
              "      <td>520.290084</td>\n",
              "      <td>2388.158304</td>\n",
              "      <td>8179.986348</td>\n",
              "      <td>8.500081</td>\n",
              "      <td>396.267842</td>\n",
              "      <td>38.500269</td>\n",
              "      <td>23.141627</td>\n",
              "    </tr>\n",
              "    <tr>\n",
              "      <th>35061</th>\n",
              "      <td>643.017817</td>\n",
              "      <td>1600.225888</td>\n",
              "      <td>1412.526760</td>\n",
              "      <td>553.817919</td>\n",
              "      <td>9156.964853</td>\n",
              "      <td>47.659218</td>\n",
              "      <td>521.237980</td>\n",
              "      <td>2388.046254</td>\n",
              "      <td>8217.006314</td>\n",
              "      <td>8.439923</td>\n",
              "      <td>394.156345</td>\n",
              "      <td>38.736254</td>\n",
              "      <td>23.217307</td>\n",
              "    </tr>\n",
              "  </tbody>\n",
              "</table>\n",
              "<p>35062 rows × 13 columns</p>\n",
              "</div>"
            ],
            "text/plain": [
              "               s2           s3           s4  ...         s17        s20        s21\n",
              "0      641.820000  1589.700000  1400.600000  ...  392.000000  39.060000  23.419000\n",
              "1      642.150000  1591.820000  1403.140000  ...  392.000000  39.000000  23.423600\n",
              "2      642.350000  1587.990000  1404.200000  ...  390.000000  38.950000  23.344200\n",
              "3      642.350000  1582.790000  1401.870000  ...  392.000000  38.880000  23.373900\n",
              "4      642.370000  1582.850000  1406.220000  ...  393.000000  38.900000  23.404400\n",
              "...           ...          ...          ...  ...         ...        ...        ...\n",
              "35057  642.624114  1602.644633  1424.150945  ...  395.879432  38.630000  23.239560\n",
              "35058  643.423701  1602.307036  1422.740753  ...  395.518505  38.621112  23.222894\n",
              "35059  643.098993  1600.787460  1415.553370  ...  393.995623  38.690481  23.319500\n",
              "35060  643.775357  1599.903115  1423.528656  ...  396.267842  38.500269  23.141627\n",
              "35061  643.017817  1600.225888  1412.526760  ...  394.156345  38.736254  23.217307\n",
              "\n",
              "[35062 rows x 13 columns]"
            ]
          },
          "metadata": {
            "tags": []
          },
          "execution_count": 90
        }
      ]
    },
    {
      "cell_type": "code",
      "metadata": {
        "id": "Vs8Qb4527yfU",
        "colab": {
          "base_uri": "https://localhost:8080/"
        },
        "outputId": "c6e621af-0d5b-40bb-af7d-bb75296fbb9d"
      },
      "source": [
        "# Oversampled Class Distributoin\n",
        "Y_train.value_counts()\n"
      ],
      "execution_count": null,
      "outputs": [
        {
          "output_type": "execute_result",
          "data": {
            "text/plain": [
              "1    17531\n",
              "0    17531\n",
              "dtype: int64"
            ]
          },
          "metadata": {
            "tags": []
          },
          "execution_count": 91
        }
      ]
    },
    {
      "cell_type": "code",
      "metadata": {
        "colab": {
          "base_uri": "https://localhost:8080/"
        },
        "id": "NnEb0ra_-X8X",
        "outputId": "b59083ca-d361-4f27-b580-8453eb3bc298"
      },
      "source": [
        "# Create a function\n",
        "\n",
        "train_df.dtypes\n",
        "categorical_colunms = [\"id\"]\n",
        "numerical_colunms = []\n",
        "for col,type_ in train_df.dtypes.iteritems():\n",
        "    if col == \"id\":\n",
        "        continue\n",
        "    if type_ == 'int64' or type_ == 'float64':\n",
        "        numerical_colunms.append(col)\n",
        "    elif type_ == 'object':\n",
        "        categorical_colunms.append(col)\n",
        "\n",
        "\n",
        "\n",
        "print(\"Numerical Colunms: {0}\".format(\", \".join(numerical_colunms)))\n",
        "print(\"Categorical Colunms: {0}\".format(\", \".join(categorical_colunms)))"
      ],
      "execution_count": null,
      "outputs": [
        {
          "output_type": "stream",
          "text": [
            "Numerical Colunms: s2, s3, s4, s7, s9, s11, s12, s13, s14, s15, s17, s20, s21\n",
            "Categorical Colunms: id\n"
          ],
          "name": "stdout"
        }
      ]
    },
    {
      "cell_type": "code",
      "metadata": {
        "id": "MV46KsvvON8a"
      },
      "source": [
        "# Preprocessing\n",
        "# 1. Outlier Capping\n",
        "def capping(df, lower_cap = 0.01, upper_cap = 0.99):\n",
        "  for col in numerical_colunms:\n",
        "    low_bound = df[col].quantile(lower_cap)\n",
        "    up_bound = df[col].quantile(upper_cap)\n",
        "    capped_df[col] = df[col].clip(lower=low_bound, upper=up_bound)\n",
        "  return capped_df\n",
        "\n",
        "# 2. Filling Missing Values\n",
        "def df_fact_missing(df, categorical_var_list, numerical_var_list):\n",
        "    for fac_col in categorical_var_list:\n",
        "        df[fac_col] = df[fac_col].fillna(\"Unknown\")\n",
        "    for non_fac_col in numerical_var_list:\n",
        "        df[non_fac_col] = df[non_fac_col].fillna(-99999)\n",
        "    return df"
      ],
      "execution_count": null,
      "outputs": []
    },
    {
      "cell_type": "code",
      "metadata": {
        "id": "Cpmpg85ROOHR"
      },
      "source": [
        "class MultiColumnLabelEncoder:\n",
        " def __init__(self,columns = None):\n",
        "  self.columns = columns # array of column names to encode\n",
        " \n",
        " def fit(self,X,y=None):\n",
        "  return self # not relevant here\n",
        " \n",
        " def transform(self,X):\n",
        "  '''\n",
        "  Transforms columns of X specified in self.columns using\n",
        "  LabelEncoder(). If no columns specified, transforms all\n",
        "  columns in X.\n",
        "  '''\n",
        "  output = X.copy()\n",
        "  if self.columns is not None:\n",
        "    for col in self.columns:\n",
        "     output[col] = LabelEncoder().fit_transform(output[col])\n",
        "  else:\n",
        "    for colname,col in output.iteritems():\n",
        "     output[colname] = LabelEncoder().fit_transform(col)\n",
        "  return output\n",
        " \n",
        " def fit_transform(self,X,y=None):\n",
        "  return self.fit(X,y).transform(X)"
      ],
      "execution_count": null,
      "outputs": []
    },
    {
      "cell_type": "code",
      "metadata": {
        "id": "DE5Bqk1i98J8"
      },
      "source": [
        "# Run If needed\n",
        "#MultiColumnLabelEncoder(columns = categorical_colunms ).fit_transform(train_df)"
      ],
      "execution_count": null,
      "outputs": []
    },
    {
      "cell_type": "code",
      "metadata": {
        "id": "TjM7DfKnMW_3"
      },
      "source": [
        "# Splitting Test data into test and validation\n",
        "\n",
        "X_test, X_val, Y_test, Y_val = train_test_split(test_df, Y1_test, test_size = 0.5, random_state=3)"
      ],
      "execution_count": null,
      "outputs": []
    },
    {
      "cell_type": "code",
      "metadata": {
        "id": "Ym_Xr9uSPz-p"
      },
      "source": [
        "# One Hot Encoding\n",
        "make_dummies = False\n",
        "if make_dummies:\n",
        "  X_train_dummy = pd.get_dummies(X_train, columns = categorical_colunms)\n",
        "  X_val_dummy = pd.get_dummies(X_val, columns = categorical_colunms)\n",
        "  X_test_dummy = pd.get_dummies(X_test, columns = categorical_colunms)\n",
        "else:\n",
        "  X_train_dummy = X_train.copy()\n",
        "  X_val_dummy = X_val.copy()\n",
        "  X_test_dummy = X_test.copy()  "
      ],
      "execution_count": null,
      "outputs": []
    },
    {
      "cell_type": "code",
      "metadata": {
        "id": "uWGxIaqZXVkB"
      },
      "source": [
        "# Creating columns of unavialable categories in validation and testing df\n",
        "\n",
        "final_column_train = X_train_dummy.columns.to_list()\n",
        "for col in final_column_train:\n",
        "  if col not in X_val_dummy.columns:\n",
        "    X_val_dummy[col] = 0\n",
        "  if col not in X_test_dummy.columns:\n",
        "    X_test_dummy[col] = 0"
      ],
      "execution_count": null,
      "outputs": []
    },
    {
      "cell_type": "code",
      "metadata": {
        "id": "9FtIEPSFXVq-"
      },
      "source": [
        "# Creating columns of unavialable categories in validation and testing df\n",
        "\n",
        "final_column_test = X_test_dummy.columns.to_list()\n",
        "cols_to_drop_from_test = []\n",
        "\n",
        "for col in final_column_test:\n",
        "  if col not in final_column_train:\n",
        "    cols_to_drop_from_test.append(col)\n"
      ],
      "execution_count": null,
      "outputs": []
    },
    {
      "cell_type": "code",
      "metadata": {
        "id": "_rfsgAI-XVwI"
      },
      "source": [
        "# Creating columns of unavialable categories in validation and testing df\n",
        "\n",
        "final_column_val = X_val_dummy.columns.to_list()\n",
        "cols_to_drop_from_val = []\n",
        "\n",
        "for col in final_column_val:\n",
        "  if col not in final_column_train:\n",
        "    cols_to_drop_from_val.append(col)"
      ],
      "execution_count": null,
      "outputs": []
    },
    {
      "cell_type": "code",
      "metadata": {
        "id": "7TdXB0tOZeYs"
      },
      "source": [
        "X_val_dummy = X_val_dummy.drop(cols_to_drop_from_val, axis=1)\n",
        "X_test_dummy = X_test_dummy.drop(cols_to_drop_from_test, axis=1) "
      ],
      "execution_count": null,
      "outputs": []
    },
    {
      "cell_type": "code",
      "metadata": {
        "id": "i3pjVdBnZeuz"
      },
      "source": [
        "\n",
        "X_train_dummy = X_train_dummy[final_column_train]\n",
        "X_val_dummy = X_val_dummy[final_column_train]\n",
        "X_test_dummy = X_test_dummy[final_column_train]\n"
      ],
      "execution_count": null,
      "outputs": []
    },
    {
      "cell_type": "code",
      "metadata": {
        "id": "g8TNzzMfMzMs"
      },
      "source": [
        "#Preliminary model evaluation using default parameters\n",
        "\n",
        "#Creating a dict of the models\n",
        "model_dict = {\n",
        "              'Random Forest': RandomForestClassifier(random_state=3, n_estimators=300, min_samples_leaf=5, min_samples_split=10),\n",
        "              'Logistic Regression' : LogisticRegression(random_state=3,max_iter=1000),\n",
        "              \"XGBoost\" : XGBClassifier(n_estimators=300, random_state=3, max_leaves =5, colsample_bytree =0.7,max_depth=7),\n",
        "              \"Light gbm\" : LGBMClassifier(n_estimators=300, random_state=3, min_child_samples = 30)\n",
        "              }\n",
        "\n",
        "\n",
        "#Function to get the scores for each model in a df\n",
        "def model_score_df(model_dict, X_train, X_test, y_train, y_test):   \n",
        "    model_name, ac_score_list, p_score_list, r_score_list, f1_score_list, auc_score_list = [], [], [], [], [], []\n",
        "    for k,v in model_dict.items(): \n",
        "        model_name.append(k)\n",
        "        print(\"Fitting Model - \", k)\n",
        "        v.fit(X_train, y_train)\n",
        "\n",
        "        #--------------------AUC------------------#\n",
        "        lr_probs = v.predict_proba(X_test)\n",
        "        # keep probabilities for the positive outcome only\n",
        "        lr_probs = lr_probs[:, 1]\n",
        "        auc_score = roc_auc_score(y_test, lr_probs)\n",
        "\n",
        "        y_pred = v.predict(X_test)        \n",
        "        ac_score_list.append(accuracy_score(y_test, y_pred))\n",
        "        p_score_list.append(precision_score(y_test, y_pred, average='micro'))\n",
        "        r_score_list.append(recall_score(y_test, y_pred, average='micro'))\n",
        "        f1_score_list.append(f1_score(y_test, y_pred, average='micro'))\n",
        "        auc_score_list.append(auc_score)\n",
        "        model_comparison_df = pd.DataFrame([model_name, ac_score_list, p_score_list, r_score_list, f1_score_list, auc_score_list]).T\n",
        "        model_comparison_df.columns = ['model_name', 'accuracy_score', 'precision_score', 'recall_score', 'f1_score', 'auc_score']\n",
        "        model_comparison_df = model_comparison_df.sort_values(by='f1_score', ascending=False)\n",
        "        \n",
        "    return (model_comparison_df)"
      ],
      "execution_count": null,
      "outputs": []
    },
    {
      "cell_type": "code",
      "metadata": {
        "id": "8v1cqtgip4Ru",
        "colab": {
          "base_uri": "https://localhost:8080/",
          "height": 244
        },
        "outputId": "7bf3e1c9-4621-46ef-d3d1-049fd607f98a"
      },
      "source": [
        "k= model_score_df(model_dict, X_train_dummy, X_val_dummy, Y_train.values.ravel(), Y_val)\n",
        "k"
      ],
      "execution_count": null,
      "outputs": [
        {
          "output_type": "stream",
          "text": [
            "Fitting Model -  Random Forest\n",
            "Fitting Model -  Logistic Regression\n",
            "Fitting Model -  XGBoost\n",
            "Fitting Model -  Light gbm\n"
          ],
          "name": "stdout"
        },
        {
          "output_type": "execute_result",
          "data": {
            "text/html": [
              "<div>\n",
              "<style scoped>\n",
              "    .dataframe tbody tr th:only-of-type {\n",
              "        vertical-align: middle;\n",
              "    }\n",
              "\n",
              "    .dataframe tbody tr th {\n",
              "        vertical-align: top;\n",
              "    }\n",
              "\n",
              "    .dataframe thead th {\n",
              "        text-align: right;\n",
              "    }\n",
              "</style>\n",
              "<table border=\"1\" class=\"dataframe\">\n",
              "  <thead>\n",
              "    <tr style=\"text-align: right;\">\n",
              "      <th></th>\n",
              "      <th>model_name</th>\n",
              "      <th>accuracy_score</th>\n",
              "      <th>precision_score</th>\n",
              "      <th>recall_score</th>\n",
              "      <th>f1_score</th>\n",
              "      <th>auc_score</th>\n",
              "    </tr>\n",
              "  </thead>\n",
              "  <tbody>\n",
              "    <tr>\n",
              "      <th>1</th>\n",
              "      <td>Logistic Regression</td>\n",
              "      <td>0.791757</td>\n",
              "      <td>0.791757</td>\n",
              "      <td>0.791757</td>\n",
              "      <td>0.791757</td>\n",
              "      <td>0.738955</td>\n",
              "    </tr>\n",
              "    <tr>\n",
              "      <th>0</th>\n",
              "      <td>Random Forest</td>\n",
              "      <td>0.788072</td>\n",
              "      <td>0.788072</td>\n",
              "      <td>0.788072</td>\n",
              "      <td>0.788072</td>\n",
              "      <td>0.690935</td>\n",
              "    </tr>\n",
              "    <tr>\n",
              "      <th>2</th>\n",
              "      <td>XGBoost</td>\n",
              "      <td>0.783716</td>\n",
              "      <td>0.783716</td>\n",
              "      <td>0.783716</td>\n",
              "      <td>0.783716</td>\n",
              "      <td>0.733417</td>\n",
              "    </tr>\n",
              "    <tr>\n",
              "      <th>3</th>\n",
              "      <td>Light gbm</td>\n",
              "      <td>0.782041</td>\n",
              "      <td>0.782041</td>\n",
              "      <td>0.782041</td>\n",
              "      <td>0.782041</td>\n",
              "      <td>0.728669</td>\n",
              "    </tr>\n",
              "  </tbody>\n",
              "</table>\n",
              "</div>"
            ],
            "text/plain": [
              "            model_name accuracy_score  ...  f1_score auc_score\n",
              "1  Logistic Regression       0.791757  ...  0.791757  0.738955\n",
              "0        Random Forest       0.788072  ...  0.788072  0.690935\n",
              "2              XGBoost       0.783716  ...  0.783716  0.733417\n",
              "3            Light gbm       0.782041  ...  0.782041  0.728669\n",
              "\n",
              "[4 rows x 6 columns]"
            ]
          },
          "metadata": {
            "tags": []
          },
          "execution_count": 104
        }
      ]
    },
    {
      "cell_type": "markdown",
      "metadata": {
        "id": "xs3ocnImOoSf"
      },
      "source": [
        "# **Hyperparameter Tuning**"
      ]
    },
    {
      "cell_type": "code",
      "metadata": {
        "id": "-SU_rZ2f0YKd"
      },
      "source": [
        "# # Hyperparameter tuning: Random Forest\n",
        "\n",
        "# #RF\n",
        "# max_depth = [10, 50, 100]\n",
        "# max_features = ['auto', 'sqrt']\n",
        "# min_samples_leaf = [1, 2, 4]\n",
        "# min_samples_split = [2, 5, 10]\n",
        "# n_estimators = [300, 400, 450]\n",
        "# random_state = [3]\n",
        "\n",
        "# clf = RandomForestClassifier()\n",
        "\n",
        "# params = dict(max_depth = max_depth,\n",
        "#               max_features = max_features,\n",
        "#               min_samples_leaf = min_samples_leaf,\n",
        "#               n_estimators = n_estimators,\n",
        "#               random_state=random_state)\n",
        "\n",
        "# gridsearch = GridSearchCV(clf,\n",
        "#                           params, \n",
        "#                           cv=5,\n",
        "#                           verbose=1, \n",
        "#                           n_jobs=-1)\n",
        "\n",
        "# rf_best_model = gridsearch.fit(X_train, Y_train)"
      ],
      "execution_count": null,
      "outputs": []
    },
    {
      "cell_type": "code",
      "metadata": {
        "id": "DF1O6VeqqwvU"
      },
      "source": [
        "# # Hyperparameter tuning: XGBoost\n",
        "\n",
        "fit_params={\"early_stopping_rounds\":30, \n",
        "            \"eval_metric\" : 'auc', \n",
        "            \"eval_set\" : [(X_test,Y_test)],\n",
        "            #'callbacks': [lgb.reset_parameter(learning_rate=learning_rate_010_decay_power_099)],\n",
        "            'verbose': 100}\n",
        "\n",
        "param_test = {\n",
        "            'n_estimators': [300, 350, 400],\n",
        "            'min_child_weight': [1, 5, 10],\n",
        "            'subsample': [0.6, 0.8],\n",
        "            'colsample_bytree': [0.6, 0.7],\n",
        "            'max_depth': [4, 5]}\n",
        "\n",
        "\n",
        "n_HP_points_to_test = 100\n",
        "\n",
        "#n_estimators is set to a \"large value\". The actual number of trees build will depend on early stopping and 500 define only the absolute maximum\n",
        "clf = XGBClassifier(random_state=314, silent=True, metric='None', n_jobs=4)\n",
        "gs = RandomizedSearchCV(\n",
        "    estimator=clf, param_distributions=param_test, \n",
        "    n_iter=n_HP_points_to_test,\n",
        "    scoring='roc_auc',\n",
        "    cv=3,\n",
        "    refit=True,\n",
        "    random_state=3,\n",
        "    verbose=True)\n",
        "\n",
        "gs.fit(X_train, Y_train.values.ravel(), **fit_params)\n",
        "print('Best score reached: {} with params: {} '.format(gs.best_score_, gs.best_params_))\n",
        "\n",
        "# {'subsample': 0.8, 'n_estimators': 300, 'min_child_weight': 1, 'max_depth': 5, 'colsample_bytree': 0.6}\n"
      ],
      "execution_count": null,
      "outputs": []
    },
    {
      "cell_type": "code",
      "metadata": {
        "id": "UzC54vqiEyNd"
      },
      "source": [
        "# # Hyperparameter tuning: LighGBM\n",
        "# fit_params={\"early_stopping_rounds\":30, \n",
        "#             \"eval_metric\" : 'auc', \n",
        "#             \"eval_set\" : [(X_test,Y_test)],\n",
        "#             'eval_names': ['valid'],\n",
        "#             #'callbacks': [lgb.reset_parameter(learning_rate=learning_rate_010_decay_power_099)],\n",
        "#             'verbose': 100,\n",
        "#             'categorical_feature': 'auto'}\n",
        "\n",
        "# param_test = {\n",
        "#     'learning_rate': [0.005],\n",
        "#     'min_child_samples': [20, 40, 50],\n",
        "#     'n_estimators': [300, 350, 400],\n",
        "#     'num_leaves': [6,8,12],\n",
        "#     'boosting_type' : ['gbdt'],\n",
        "#     'objective' : ['binary'],\n",
        "#     'colsample_bytree' : [0.6, 0.7],\n",
        "#     'subsample' : [0.7,0.75],\n",
        "#     'reg_alpha' : [1,1.2],\n",
        "#     'reg_lambda' : [1,1.2,1.4]}\n",
        "\n",
        "\n",
        "# n_HP_points_to_test = 100\n",
        "\n",
        "# #n_estimators is set to a \"large value\". The actual number of trees build will depend on early stopping and 500 define only the absolute maximum\n",
        "# clf = LGBMClassifier(max_depth=-1, random_state=314, silent=True, metric='None', n_jobs=4)\n",
        "# gs = RandomizedSearchCV(\n",
        "#     estimator=clf, param_distributions=param_test, \n",
        "#     n_iter=n_HP_points_to_test,\n",
        "#     scoring='roc_auc',\n",
        "#     cv=3,\n",
        "#     refit=True,\n",
        "#     random_state=3,\n",
        "#     verbose=True)\n",
        "\n",
        "# gs.fit(X_train, Y_train.values.ravel(), **fit_params)\n",
        "# print('Best score reached: {} with params: {} '.format(gs.best_score_, gs.best_params_))\n",
        "\n",
        "\n",
        "# # Best params: {'subsample': 0.7, 'reg_lambda': 1.4, 'reg_alpha': 1, 'objective': 'binary', 'num_leaves': 12, 'n_estimators': 400, 'min_child_samples': 50, 'learning_rate': 0.005, 'colsample_bytree': 0.7, 'boosting_type': 'gbdt'}\n",
        "\n"
      ],
      "execution_count": null,
      "outputs": []
    },
    {
      "cell_type": "code",
      "metadata": {
        "id": "4Flv-ZZRFVqh"
      },
      "source": [
        ""
      ],
      "execution_count": null,
      "outputs": []
    },
    {
      "cell_type": "markdown",
      "metadata": {
        "id": "_HUmTDSkOdg3"
      },
      "source": [
        "# **Feature Importance**"
      ]
    },
    {
      "cell_type": "code",
      "metadata": {
        "id": "rqmHom-YILfX"
      },
      "source": [
        "# Feature Importance\n",
        "import matplotlib.pyplot as plt\n",
        "import seaborn as sns\n",
        "import warnings\n",
        "warnings.simplefilter(action='ignore', category=FutureWarning)\n",
        "\n",
        "def plotImp(model, X , num = 20, fig_size = (40, 20)):\n",
        "    boost = model.booster_\n",
        "    feature_imp = pd.DataFrame({'Value':boost.feature_importance(),'Feature':X.columns})\n",
        "    plt.figure(figsize=fig_size)\n",
        "    sns.set(font_scale = 5)\n",
        "    sns.barplot(x=\"Value\", y=\"Feature\", data=feature_imp.sort_values(by=\"Value\", \n",
        "                                                        ascending=False)[0:num])\n",
        "    plt.title('LightGBM Features (avg over folds)')\n",
        "    plt.tight_layout()\n",
        "    plt.savefig('lgbm_importances-01.png')\n",
        "    plt.show()"
      ],
      "execution_count": null,
      "outputs": []
    },
    {
      "cell_type": "code",
      "metadata": {
        "id": "bed4FNZwKsMT"
      },
      "source": [
        "# clf = LGBMClassifier(max_depth=-1, random_state=314, silent=True, metric='None', n_jobs=4, n_estimators=500)\n",
        "# clf.fit(X_train,Y_train.values.ravel())\n",
        "# plotImp(clf, X_train)"
      ],
      "execution_count": null,
      "outputs": []
    },
    {
      "cell_type": "code",
      "metadata": {
        "colab": {
          "base_uri": "https://localhost:8080/"
        },
        "id": "72iYDD8lOaS7",
        "outputId": "7b2ae717-16f6-4988-e5e2-34168a85f55f"
      },
      "source": [
        "# Build a forest and compute the feature importances\n",
        "XGB_Model = XGBClassifier(random_state=314, subsample = 0.8, n_estimators = 300, min_child_weight = 1, max_depth = 5, colsample_bytree = 0.6)\n",
        "XGB_Model.fit(X_train, Y_train)\n",
        "\n",
        "#importances = forest.feature_importances_\n",
        "importances= XGB_Model.feature_importances_\n",
        "indices= np.argsort(importances)[::1]\n",
        "\n",
        "feat_importances= pd.Series(XGB_Model.feature_importances_,index= X_train.columns)\n"
      ],
      "execution_count": null,
      "outputs": [
        {
          "output_type": "stream",
          "text": [
            "/usr/local/lib/python3.7/dist-packages/sklearn/preprocessing/_label.py:235: DataConversionWarning: A column-vector y was passed when a 1d array was expected. Please change the shape of y to (n_samples, ), for example using ravel().\n",
            "  y = column_or_1d(y, warn=True)\n",
            "/usr/local/lib/python3.7/dist-packages/sklearn/preprocessing/_label.py:268: DataConversionWarning: A column-vector y was passed when a 1d array was expected. Please change the shape of y to (n_samples, ), for example using ravel().\n",
            "  y = column_or_1d(y, warn=True)\n"
          ],
          "name": "stderr"
        }
      ]
    },
    {
      "cell_type": "code",
      "metadata": {
        "colab": {
          "base_uri": "https://localhost:8080/"
        },
        "id": "Xl_VDj5MzxuB",
        "outputId": "5391de9a-09fb-4595-e7e1-275df5758d5c"
      },
      "source": [
        "# Perfomance Metrics\n",
        "predictions = XGB_Model.predict(X_test)\n",
        "\n",
        "predictions_scores = XGB_Model.predict_proba(X_test)\n",
        "predictions_scores = predictions_scores[:, 1]\n",
        "\n",
        "# Extract Accuracy/Precision/AUC/Recall\n",
        "df = pd.DataFrame({'Real Values':Y_test, 'Predicted Values':predictions})\n",
        "\n",
        "accuracy = accuracy_score(Y_test, predictions)\n",
        "precision = precision_score(Y_test, predictions)\n",
        "recall = recall_score(Y_test, predictions)\n",
        "auc_score = roc_auc_score(Y_test, predictions_scores)\n",
        "\n",
        "print(\"accuracy: \", accuracy, \"precision: \", precision, \"recall: \", recall, \"auc_score: \", auc_score)"
      ],
      "execution_count": null,
      "outputs": [
        {
          "output_type": "stream",
          "text": [
            "accuracy:  0.782208075054448 precision:  0.9758064516129032 recall:  0.08533145275035262 auc_score:  0.7209080662071821\n"
          ],
          "name": "stdout"
        }
      ]
    },
    {
      "cell_type": "code",
      "metadata": {
        "colab": {
          "base_uri": "https://localhost:8080/"
        },
        "id": "DsRCOnx72upe",
        "outputId": "4cbfaccb-42c7-4897-c1e9-cad002cd34ec"
      },
      "source": [
        "conf_data = {'y_Actual':    Y_test,\n",
        "        'y_Predicted': predictions\n",
        "        }\n",
        "\n",
        "confusion_df = pd.DataFrame(conf_data, columns=['y_Actual','y_Predicted'])\n",
        "confusion_matrix = pd.crosstab(confusion_df['y_Actual'], confusion_df['y_Predicted'], rownames=['Actual'], colnames=['Predicted'])\n",
        "print (confusion_matrix)\n",
        "\n"
      ],
      "execution_count": null,
      "outputs": [
        {
          "output_type": "stream",
          "text": [
            "Predicted     0    1\n",
            "Actual              \n",
            "0          4548    3\n",
            "1          1297  121\n"
          ],
          "name": "stdout"
        }
      ]
    },
    {
      "cell_type": "code",
      "metadata": {
        "id": "TCp9XoJzzxxv"
      },
      "source": [
        ""
      ],
      "execution_count": null,
      "outputs": []
    },
    {
      "cell_type": "code",
      "metadata": {
        "id": "s4RleudGpyMU"
      },
      "source": [
        "# Performing k-Fold cross validation\n",
        "\n",
        "skf = StratifiedKFold(n_splits=5)\n",
        "\n",
        "skf.get_n_splits(X_train, Y_train)\n",
        "\n",
        "performance_df = pd.DataFrame()\n",
        "\n",
        "performance_list = []\n",
        "\n",
        "counter = 0\n",
        "\n",
        "for train_index, test_index in skf.split(X_train, Y_train):\n",
        "\n",
        "    counter += 1\n",
        "\n",
        "    # print(\"TRAIN:\", train_index, \"TEST:\", test_index)\n",
        "    \n",
        "    X_train_Kfold, X_test_Kfold = X_train[X_train.index.isin(train_index)].to_numpy(), X_train[X_train.index.isin(test_index)].to_numpy()\n",
        "    y_train_Kfold, y_test_Kfold = Y_train[Y_train.index.isin(train_index)].to_numpy().flatten(), Y_train[Y_train.index.isin(test_index)].to_numpy().flatten()\n",
        "\n",
        "    # classifier = RandomForestClassifier(n_estimators = 10, random_state = 0)\n",
        "    classifier = GaussianNB()\n",
        "    classifier.fit(X_train_Kfold, y_train_Kfold)\n",
        "    \n",
        "    predictions = classifier.predict(X_test_Kfold)\n",
        "    \n",
        "    predictions_scores = classifier.predict_proba(X_test_Kfold)\n",
        "    predictions_scores = predictions_scores[:, 1]\n",
        "    \n",
        "    # Extract Accuracy/Precision/AUC/Recall\n",
        "    df = pd.DataFrame({'Real Values':y_test_Kfold, 'Predicted Values':predictions})\n",
        "\n",
        "    accuracy = accuracy_score(y_test_Kfold, predictions)\n",
        "    precision = precision_score(y_test_Kfold, predictions)\n",
        "    recall = recall_score(y_test_Kfold, predictions)\n",
        "    auc_score = roc_auc_score(y_test_Kfold, predictions_scores)\n",
        "\n",
        "    performance_list.append([\"Fold-\" + str(counter), auc_score, precision, recall, accuracy])\n",
        "    \n",
        "    \n",
        "performance_list = pd.DataFrame(performance_list, columns=[\"n-fold\", \"AUC\", \"Precision\", \"Recall\", \"Accuracy\"])\n",
        "# performance_list.to_excel(\"/content/drive/My Drive/Colab Notebooks/aircraft_data/accuracy.xlsx\", index = False)"
      ],
      "execution_count": null,
      "outputs": []
    },
    {
      "cell_type": "code",
      "metadata": {
        "colab": {
          "base_uri": "https://localhost:8080/",
          "height": 194
        },
        "id": "e1NoEW7SKU6D",
        "outputId": "feef7d4e-20f5-4cea-bdf8-80d2ea91515d"
      },
      "source": [
        "performance_list"
      ],
      "execution_count": null,
      "outputs": [
        {
          "output_type": "execute_result",
          "data": {
            "text/html": [
              "<div>\n",
              "<style scoped>\n",
              "    .dataframe tbody tr th:only-of-type {\n",
              "        vertical-align: middle;\n",
              "    }\n",
              "\n",
              "    .dataframe tbody tr th {\n",
              "        vertical-align: top;\n",
              "    }\n",
              "\n",
              "    .dataframe thead th {\n",
              "        text-align: right;\n",
              "    }\n",
              "</style>\n",
              "<table border=\"1\" class=\"dataframe\">\n",
              "  <thead>\n",
              "    <tr style=\"text-align: right;\">\n",
              "      <th></th>\n",
              "      <th>n-fold</th>\n",
              "      <th>AUC</th>\n",
              "      <th>Precision</th>\n",
              "      <th>Recall</th>\n",
              "      <th>Accuracy</th>\n",
              "    </tr>\n",
              "  </thead>\n",
              "  <tbody>\n",
              "    <tr>\n",
              "      <th>0</th>\n",
              "      <td>Fold-1</td>\n",
              "      <td>0.991312</td>\n",
              "      <td>0.929138</td>\n",
              "      <td>0.968625</td>\n",
              "      <td>0.947383</td>\n",
              "    </tr>\n",
              "    <tr>\n",
              "      <th>1</th>\n",
              "      <td>Fold-2</td>\n",
              "      <td>0.992620</td>\n",
              "      <td>0.920482</td>\n",
              "      <td>0.980325</td>\n",
              "      <td>0.947811</td>\n",
              "    </tr>\n",
              "    <tr>\n",
              "      <th>2</th>\n",
              "      <td>Fold-3</td>\n",
              "      <td>0.992744</td>\n",
              "      <td>0.943054</td>\n",
              "      <td>0.977752</td>\n",
              "      <td>0.959355</td>\n",
              "    </tr>\n",
              "    <tr>\n",
              "      <th>3</th>\n",
              "      <td>Fold-4</td>\n",
              "      <td>0.984020</td>\n",
              "      <td>0.894943</td>\n",
              "      <td>0.979179</td>\n",
              "      <td>0.932116</td>\n",
              "    </tr>\n",
              "    <tr>\n",
              "      <th>4</th>\n",
              "      <td>Fold-5</td>\n",
              "      <td>0.987917</td>\n",
              "      <td>0.915504</td>\n",
              "      <td>0.973474</td>\n",
              "      <td>0.941814</td>\n",
              "    </tr>\n",
              "  </tbody>\n",
              "</table>\n",
              "</div>"
            ],
            "text/plain": [
              "   n-fold       AUC  Precision    Recall  Accuracy\n",
              "0  Fold-1  0.991312   0.929138  0.968625  0.947383\n",
              "1  Fold-2  0.992620   0.920482  0.980325  0.947811\n",
              "2  Fold-3  0.992744   0.943054  0.977752  0.959355\n",
              "3  Fold-4  0.984020   0.894943  0.979179  0.932116\n",
              "4  Fold-5  0.987917   0.915504  0.973474  0.941814"
            ]
          },
          "metadata": {
            "tags": []
          },
          "execution_count": 181
        }
      ]
    },
    {
      "cell_type": "code",
      "metadata": {
        "colab": {
          "base_uri": "https://localhost:8080/",
          "height": 432
        },
        "id": "Jdjz6V2ritBu",
        "outputId": "786bd56d-8982-4182-a455-4e3a80e53531"
      },
      "source": [
        "X_train.drop([\"id\", \"cycle\"], axis = 1)"
      ],
      "execution_count": null,
      "outputs": [
        {
          "output_type": "execute_result",
          "data": {
            "text/html": [
              "<div>\n",
              "<style scoped>\n",
              "    .dataframe tbody tr th:only-of-type {\n",
              "        vertical-align: middle;\n",
              "    }\n",
              "\n",
              "    .dataframe tbody tr th {\n",
              "        vertical-align: top;\n",
              "    }\n",
              "\n",
              "    .dataframe thead th {\n",
              "        text-align: right;\n",
              "    }\n",
              "</style>\n",
              "<table border=\"1\" class=\"dataframe\">\n",
              "  <thead>\n",
              "    <tr style=\"text-align: right;\">\n",
              "      <th></th>\n",
              "      <th>setting1</th>\n",
              "      <th>setting2</th>\n",
              "      <th>setting3</th>\n",
              "      <th>s1</th>\n",
              "      <th>s2</th>\n",
              "      <th>s3</th>\n",
              "      <th>s4</th>\n",
              "      <th>s5</th>\n",
              "      <th>s6</th>\n",
              "      <th>s7</th>\n",
              "      <th>s8</th>\n",
              "      <th>s9</th>\n",
              "      <th>s10</th>\n",
              "      <th>s11</th>\n",
              "      <th>s12</th>\n",
              "      <th>s13</th>\n",
              "      <th>s14</th>\n",
              "      <th>s15</th>\n",
              "      <th>s16</th>\n",
              "      <th>s17</th>\n",
              "      <th>s18</th>\n",
              "      <th>s19</th>\n",
              "      <th>s20</th>\n",
              "      <th>s21</th>\n",
              "    </tr>\n",
              "  </thead>\n",
              "  <tbody>\n",
              "    <tr>\n",
              "      <th>0</th>\n",
              "      <td>-0.000700</td>\n",
              "      <td>-0.000400</td>\n",
              "      <td>100.0</td>\n",
              "      <td>518.67</td>\n",
              "      <td>641.820000</td>\n",
              "      <td>1589.700000</td>\n",
              "      <td>1400.600000</td>\n",
              "      <td>14.62</td>\n",
              "      <td>21.61</td>\n",
              "      <td>554.360000</td>\n",
              "      <td>2388.060000</td>\n",
              "      <td>9046.190000</td>\n",
              "      <td>1.3</td>\n",
              "      <td>47.470000</td>\n",
              "      <td>521.660000</td>\n",
              "      <td>2388.020000</td>\n",
              "      <td>8138.620000</td>\n",
              "      <td>8.419500</td>\n",
              "      <td>0.03</td>\n",
              "      <td>392.000000</td>\n",
              "      <td>2388.0</td>\n",
              "      <td>100.0</td>\n",
              "      <td>39.060000</td>\n",
              "      <td>23.419000</td>\n",
              "    </tr>\n",
              "    <tr>\n",
              "      <th>1</th>\n",
              "      <td>0.001900</td>\n",
              "      <td>-0.000300</td>\n",
              "      <td>100.0</td>\n",
              "      <td>518.67</td>\n",
              "      <td>642.150000</td>\n",
              "      <td>1591.820000</td>\n",
              "      <td>1403.140000</td>\n",
              "      <td>14.62</td>\n",
              "      <td>21.61</td>\n",
              "      <td>553.750000</td>\n",
              "      <td>2388.040000</td>\n",
              "      <td>9044.070000</td>\n",
              "      <td>1.3</td>\n",
              "      <td>47.490000</td>\n",
              "      <td>522.280000</td>\n",
              "      <td>2388.070000</td>\n",
              "      <td>8131.490000</td>\n",
              "      <td>8.431800</td>\n",
              "      <td>0.03</td>\n",
              "      <td>392.000000</td>\n",
              "      <td>2388.0</td>\n",
              "      <td>100.0</td>\n",
              "      <td>39.000000</td>\n",
              "      <td>23.423600</td>\n",
              "    </tr>\n",
              "    <tr>\n",
              "      <th>2</th>\n",
              "      <td>-0.004300</td>\n",
              "      <td>0.000300</td>\n",
              "      <td>100.0</td>\n",
              "      <td>518.67</td>\n",
              "      <td>642.350000</td>\n",
              "      <td>1587.990000</td>\n",
              "      <td>1404.200000</td>\n",
              "      <td>14.62</td>\n",
              "      <td>21.61</td>\n",
              "      <td>554.260000</td>\n",
              "      <td>2388.080000</td>\n",
              "      <td>9052.940000</td>\n",
              "      <td>1.3</td>\n",
              "      <td>47.270000</td>\n",
              "      <td>522.420000</td>\n",
              "      <td>2388.030000</td>\n",
              "      <td>8133.230000</td>\n",
              "      <td>8.417800</td>\n",
              "      <td>0.03</td>\n",
              "      <td>390.000000</td>\n",
              "      <td>2388.0</td>\n",
              "      <td>100.0</td>\n",
              "      <td>38.950000</td>\n",
              "      <td>23.344200</td>\n",
              "    </tr>\n",
              "    <tr>\n",
              "      <th>3</th>\n",
              "      <td>0.000700</td>\n",
              "      <td>0.000000</td>\n",
              "      <td>100.0</td>\n",
              "      <td>518.67</td>\n",
              "      <td>642.350000</td>\n",
              "      <td>1582.790000</td>\n",
              "      <td>1401.870000</td>\n",
              "      <td>14.62</td>\n",
              "      <td>21.61</td>\n",
              "      <td>554.450000</td>\n",
              "      <td>2388.110000</td>\n",
              "      <td>9049.480000</td>\n",
              "      <td>1.3</td>\n",
              "      <td>47.130000</td>\n",
              "      <td>522.860000</td>\n",
              "      <td>2388.080000</td>\n",
              "      <td>8133.830000</td>\n",
              "      <td>8.368200</td>\n",
              "      <td>0.03</td>\n",
              "      <td>392.000000</td>\n",
              "      <td>2388.0</td>\n",
              "      <td>100.0</td>\n",
              "      <td>38.880000</td>\n",
              "      <td>23.373900</td>\n",
              "    </tr>\n",
              "    <tr>\n",
              "      <th>4</th>\n",
              "      <td>-0.001900</td>\n",
              "      <td>-0.000200</td>\n",
              "      <td>100.0</td>\n",
              "      <td>518.67</td>\n",
              "      <td>642.370000</td>\n",
              "      <td>1582.850000</td>\n",
              "      <td>1406.220000</td>\n",
              "      <td>14.62</td>\n",
              "      <td>21.61</td>\n",
              "      <td>554.000000</td>\n",
              "      <td>2388.060000</td>\n",
              "      <td>9055.150000</td>\n",
              "      <td>1.3</td>\n",
              "      <td>47.280000</td>\n",
              "      <td>522.190000</td>\n",
              "      <td>2388.040000</td>\n",
              "      <td>8133.800000</td>\n",
              "      <td>8.429400</td>\n",
              "      <td>0.03</td>\n",
              "      <td>393.000000</td>\n",
              "      <td>2388.0</td>\n",
              "      <td>100.0</td>\n",
              "      <td>38.900000</td>\n",
              "      <td>23.404400</td>\n",
              "    </tr>\n",
              "    <tr>\n",
              "      <th>...</th>\n",
              "      <td>...</td>\n",
              "      <td>...</td>\n",
              "      <td>...</td>\n",
              "      <td>...</td>\n",
              "      <td>...</td>\n",
              "      <td>...</td>\n",
              "      <td>...</td>\n",
              "      <td>...</td>\n",
              "      <td>...</td>\n",
              "      <td>...</td>\n",
              "      <td>...</td>\n",
              "      <td>...</td>\n",
              "      <td>...</td>\n",
              "      <td>...</td>\n",
              "      <td>...</td>\n",
              "      <td>...</td>\n",
              "      <td>...</td>\n",
              "      <td>...</td>\n",
              "      <td>...</td>\n",
              "      <td>...</td>\n",
              "      <td>...</td>\n",
              "      <td>...</td>\n",
              "      <td>...</td>\n",
              "      <td>...</td>\n",
              "    </tr>\n",
              "    <tr>\n",
              "      <th>35057</th>\n",
              "      <td>0.000747</td>\n",
              "      <td>-0.000011</td>\n",
              "      <td>100.0</td>\n",
              "      <td>518.67</td>\n",
              "      <td>643.245256</td>\n",
              "      <td>1593.682510</td>\n",
              "      <td>1418.220888</td>\n",
              "      <td>14.62</td>\n",
              "      <td>21.61</td>\n",
              "      <td>552.174812</td>\n",
              "      <td>2388.185256</td>\n",
              "      <td>9124.343584</td>\n",
              "      <td>1.3</td>\n",
              "      <td>47.894727</td>\n",
              "      <td>520.771092</td>\n",
              "      <td>2388.147884</td>\n",
              "      <td>8193.923907</td>\n",
              "      <td>8.521884</td>\n",
              "      <td>0.03</td>\n",
              "      <td>396.315700</td>\n",
              "      <td>2388.0</td>\n",
              "      <td>100.0</td>\n",
              "      <td>38.630512</td>\n",
              "      <td>23.176378</td>\n",
              "    </tr>\n",
              "    <tr>\n",
              "      <th>35058</th>\n",
              "      <td>-0.001910</td>\n",
              "      <td>0.000400</td>\n",
              "      <td>100.0</td>\n",
              "      <td>518.67</td>\n",
              "      <td>643.122356</td>\n",
              "      <td>1595.776743</td>\n",
              "      <td>1422.332875</td>\n",
              "      <td>14.62</td>\n",
              "      <td>21.61</td>\n",
              "      <td>552.728631</td>\n",
              "      <td>2388.151123</td>\n",
              "      <td>9126.302771</td>\n",
              "      <td>1.3</td>\n",
              "      <td>47.872027</td>\n",
              "      <td>520.785616</td>\n",
              "      <td>2388.125507</td>\n",
              "      <td>8194.239508</td>\n",
              "      <td>8.481534</td>\n",
              "      <td>0.03</td>\n",
              "      <td>395.887670</td>\n",
              "      <td>2388.0</td>\n",
              "      <td>100.0</td>\n",
              "      <td>38.695397</td>\n",
              "      <td>23.147685</td>\n",
              "    </tr>\n",
              "    <tr>\n",
              "      <th>35059</th>\n",
              "      <td>0.001852</td>\n",
              "      <td>-0.000058</td>\n",
              "      <td>100.0</td>\n",
              "      <td>518.67</td>\n",
              "      <td>643.023930</td>\n",
              "      <td>1601.257222</td>\n",
              "      <td>1423.053054</td>\n",
              "      <td>14.62</td>\n",
              "      <td>21.61</td>\n",
              "      <td>552.443129</td>\n",
              "      <td>2388.103229</td>\n",
              "      <td>9165.364279</td>\n",
              "      <td>1.3</td>\n",
              "      <td>47.847109</td>\n",
              "      <td>520.919036</td>\n",
              "      <td>2388.106458</td>\n",
              "      <td>8227.881778</td>\n",
              "      <td>8.485966</td>\n",
              "      <td>0.03</td>\n",
              "      <td>396.000000</td>\n",
              "      <td>2388.0</td>\n",
              "      <td>100.0</td>\n",
              "      <td>38.548698</td>\n",
              "      <td>23.158521</td>\n",
              "    </tr>\n",
              "    <tr>\n",
              "      <th>35060</th>\n",
              "      <td>-0.000023</td>\n",
              "      <td>-0.000258</td>\n",
              "      <td>100.0</td>\n",
              "      <td>518.67</td>\n",
              "      <td>643.275793</td>\n",
              "      <td>1592.815305</td>\n",
              "      <td>1415.068777</td>\n",
              "      <td>14.62</td>\n",
              "      <td>21.61</td>\n",
              "      <td>552.843437</td>\n",
              "      <td>2388.160771</td>\n",
              "      <td>9058.615128</td>\n",
              "      <td>1.3</td>\n",
              "      <td>47.947688</td>\n",
              "      <td>520.448087</td>\n",
              "      <td>2388.170771</td>\n",
              "      <td>8135.127236</td>\n",
              "      <td>8.450224</td>\n",
              "      <td>0.03</td>\n",
              "      <td>393.269265</td>\n",
              "      <td>2388.0</td>\n",
              "      <td>100.0</td>\n",
              "      <td>38.602312</td>\n",
              "      <td>23.155057</td>\n",
              "    </tr>\n",
              "    <tr>\n",
              "      <th>35061</th>\n",
              "      <td>-0.001600</td>\n",
              "      <td>-0.000352</td>\n",
              "      <td>100.0</td>\n",
              "      <td>518.67</td>\n",
              "      <td>643.571147</td>\n",
              "      <td>1600.444343</td>\n",
              "      <td>1420.707594</td>\n",
              "      <td>14.62</td>\n",
              "      <td>21.61</td>\n",
              "      <td>552.570876</td>\n",
              "      <td>2388.182391</td>\n",
              "      <td>9122.909965</td>\n",
              "      <td>1.3</td>\n",
              "      <td>47.850201</td>\n",
              "      <td>520.665491</td>\n",
              "      <td>2388.152828</td>\n",
              "      <td>8195.336200</td>\n",
              "      <td>8.534913</td>\n",
              "      <td>0.03</td>\n",
              "      <td>397.282838</td>\n",
              "      <td>2388.0</td>\n",
              "      <td>100.0</td>\n",
              "      <td>38.534580</td>\n",
              "      <td>23.122200</td>\n",
              "    </tr>\n",
              "  </tbody>\n",
              "</table>\n",
              "<p>35062 rows × 24 columns</p>\n",
              "</div>"
            ],
            "text/plain": [
              "       setting1  setting2  setting3  ...    s19        s20        s21\n",
              "0     -0.000700 -0.000400     100.0  ...  100.0  39.060000  23.419000\n",
              "1      0.001900 -0.000300     100.0  ...  100.0  39.000000  23.423600\n",
              "2     -0.004300  0.000300     100.0  ...  100.0  38.950000  23.344200\n",
              "3      0.000700  0.000000     100.0  ...  100.0  38.880000  23.373900\n",
              "4     -0.001900 -0.000200     100.0  ...  100.0  38.900000  23.404400\n",
              "...         ...       ...       ...  ...    ...        ...        ...\n",
              "35057  0.000747 -0.000011     100.0  ...  100.0  38.630512  23.176378\n",
              "35058 -0.001910  0.000400     100.0  ...  100.0  38.695397  23.147685\n",
              "35059  0.001852 -0.000058     100.0  ...  100.0  38.548698  23.158521\n",
              "35060 -0.000023 -0.000258     100.0  ...  100.0  38.602312  23.155057\n",
              "35061 -0.001600 -0.000352     100.0  ...  100.0  38.534580  23.122200\n",
              "\n",
              "[35062 rows x 24 columns]"
            ]
          },
          "metadata": {
            "tags": []
          },
          "execution_count": 45
        }
      ]
    },
    {
      "cell_type": "code",
      "metadata": {
        "id": "BYZp1efM2uHI",
        "colab": {
          "base_uri": "https://localhost:8080/"
        },
        "outputId": "5ab48134-1054-448f-cbc5-ab9af5fba796"
      },
      "source": [
        "# Final Model Build\n",
        "# bin_model_class = RandomForestClassifier(n_estimators=100, max_depth = 5, min_samples_split=2, max_features='sqrt', oob_score=False)\n",
        "# {'subsample': 0.75, 'reg_lambda': 1.2, 'reg_alpha': 1.2, 'objective': 'binary', 'num_leaves': 16, 'n_estimators': 400, 'min_child_samples': 20, 'learning_rate': 0.005, 'colsample_bytree': 0.7, 'boosting_type': 'gbdt'\n",
        "bin_model_class = LGBMClassifier(subsample=0.75, reg_lambda=1.2, reg_alpha=1.2, objective='binary', num_leaves=16, n_estimators=400, min_child_samples=20, learning_rate=0.005, colsample_bytree=0.7, boosting_type='gbdt')\n",
        "bin_model_class.fit(X_train, Y_train)\n",
        "predictions = bin_model_class.predict(X_test)\n",
        "predictions_scores = bin_model_class.predict_proba(X_test)\n",
        "predictions_scores = predictions_scores[:, 1]\n",
        "auc_score = roc_auc_score(Y_test, predictions_scores)\n",
        "auc_score"
      ],
      "execution_count": null,
      "outputs": [
        {
          "output_type": "stream",
          "text": [
            "/usr/local/lib/python3.7/dist-packages/sklearn/preprocessing/_label.py:235: DataConversionWarning: A column-vector y was passed when a 1d array was expected. Please change the shape of y to (n_samples, ), for example using ravel().\n",
            "  y = column_or_1d(y, warn=True)\n",
            "/usr/local/lib/python3.7/dist-packages/sklearn/preprocessing/_label.py:268: DataConversionWarning: A column-vector y was passed when a 1d array was expected. Please change the shape of y to (n_samples, ), for example using ravel().\n",
            "  y = column_or_1d(y, warn=True)\n"
          ],
          "name": "stderr"
        },
        {
          "output_type": "execute_result",
          "data": {
            "text/plain": [
              "0.6997231501686421"
            ]
          },
          "metadata": {
            "tags": []
          },
          "execution_count": 70
        }
      ]
    },
    {
      "cell_type": "code",
      "metadata": {
        "colab": {
          "base_uri": "https://localhost:8080/",
          "height": 278
        },
        "id": "-s8AK23EHjuy",
        "outputId": "bc0c8212-1de7-4565-db81-37708b07601a"
      },
      "source": [
        "ax = plt.gca()\n",
        "rfc_disp = plot_roc_curve(bin_model_class, X_test, Y_test, ax=ax, alpha=0.8)\n",
        "plt.show()"
      ],
      "execution_count": null,
      "outputs": [
        {
          "output_type": "display_data",
          "data": {
            "image/png": "[encoded data removed]",
            "text/plain": [
              "<Figure size 432x288 with 1 Axes>"
            ]
          },
          "metadata": {
            "tags": []
          }
        }
      ]
    },
    {
      "cell_type": "code",
      "metadata": {
        "id": "TC-GDdLViWYD",
        "colab": {
          "base_uri": "https://localhost:8080/",
          "height": 830
        },
        "outputId": "74d8e305-847f-4ea8-e613-3e20f5b63c20"
      },
      "source": [
        "plotImp(bin_model_class, X_train)"
      ],
      "execution_count": null,
      "outputs": [
        {
          "output_type": "display_data",
          "data": {
            "image/png": "[encoded data removed]",
            "text/plain": [
              "<Figure size 2880x1440 with 1 Axes>"
            ]
          },
          "metadata": {
            "tags": []
          }
        }
      ]
    },
    {
      "cell_type": "code",
      "metadata": {
        "id": "NfGB0TdGntjr"
      },
      "source": [
        ""
      ],
      "execution_count": null,
      "outputs": []
    }
  ]
}